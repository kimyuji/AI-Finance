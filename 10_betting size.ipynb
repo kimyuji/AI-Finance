{
 "cells": [
  {
   "cell_type": "markdown",
   "metadata": {},
   "source": [
    "# Chapter 10. Betting Size\n",
    "### 2, 3번 연습문제 풀이"
   ]
  },
  {
   "cell_type": "code",
   "execution_count": 1,
   "metadata": {},
   "outputs": [],
   "source": [
    "from mlfinlab import data_structures, features, filters, labeling, util, sampling, structural_breaks, microstructural_features\n",
    "from mlfinlab import bet_sizing as bs\n",
    "\n",
    "import numpy as np\n",
    "import pandas as pd\n",
    "import datetime as dt\n",
    "import matplotlib.pyplot as plt\n",
    "import seaborn as sns; sns.set()\n",
    "\n",
    "from sklearn.model_selection import train_test_split\n",
    "from sklearn.ensemble import RandomForestClassifier, BaggingClassifier\n",
    "from sklearn.svm import SVC\n",
    "from sklearn.metrics import plot_roc_curve\n",
    "from sklearn.metrics import roc_curve, confusion_matrix, accuracy_score, classification_report\n",
    "from sklearn.model_selection import GridSearchCV, RandomizedSearchCV, validation_curve\n",
    "from sklearn import metrics\n",
    "from sklearn.decomposition import PCA\n",
    "\n",
    "# matplotlib 설정\n",
    "%matplotlib inline\n",
    "import matplotlib\n",
    "import matplotlib.pyplot as plt\n",
    "plt.rcParams['axes.labelsize'] = 14\n",
    "plt.rcParams['xtick.labelsize'] = 12\n",
    "plt.rcParams['ytick.labelsize'] = 12\n",
    "\n",
    "# 한글출력\n",
    "plt.rc('font', family='malgun gothic')\n",
    "plt.rcParams['axes.unicode_minus'] = False"
   ]
  },
  {
   "cell_type": "code",
   "execution_count": 2,
   "metadata": {
    "scrolled": true
   },
   "outputs": [],
   "source": [
    "df=pd.read_csv('dollar_bars (1).csv') # dollar_bar 파일\n",
    "df.index = pd.to_datetime(df.date_time) # index를 날짜_시간으로 바꾸기\n",
    "dollar_bars=df.drop('date_time',axis=1) # 중복된 행 없애기"
   ]
  },
  {
   "cell_type": "code",
   "execution_count": 3,
   "metadata": {
    "scrolled": false
   },
   "outputs": [
    {
     "data": {
      "text/html": [
       "<div>\n",
       "<style scoped>\n",
       "    .dataframe tbody tr th:only-of-type {\n",
       "        vertical-align: middle;\n",
       "    }\n",
       "\n",
       "    .dataframe tbody tr th {\n",
       "        vertical-align: top;\n",
       "    }\n",
       "\n",
       "    .dataframe thead th {\n",
       "        text-align: right;\n",
       "    }\n",
       "</style>\n",
       "<table border=\"1\" class=\"dataframe\">\n",
       "  <thead>\n",
       "    <tr style=\"text-align: right;\">\n",
       "      <th></th>\n",
       "      <th>open</th>\n",
       "      <th>high</th>\n",
       "      <th>low</th>\n",
       "      <th>close</th>\n",
       "      <th>cum_vol</th>\n",
       "      <th>cum_dollar</th>\n",
       "      <th>cum_ticks</th>\n",
       "    </tr>\n",
       "    <tr>\n",
       "      <th>date_time</th>\n",
       "      <th></th>\n",
       "      <th></th>\n",
       "      <th></th>\n",
       "      <th></th>\n",
       "      <th></th>\n",
       "      <th></th>\n",
       "      <th></th>\n",
       "    </tr>\n",
       "  </thead>\n",
       "  <tbody>\n",
       "    <tr>\n",
       "      <th>2015-01-01 23:00:24</th>\n",
       "      <td>2053.00</td>\n",
       "      <td>2056.75</td>\n",
       "      <td>2051.00</td>\n",
       "      <td>2056.75</td>\n",
       "      <td>34102</td>\n",
       "      <td>70001096.75</td>\n",
       "      <td>8478</td>\n",
       "    </tr>\n",
       "    <tr>\n",
       "      <th>2015-01-02 07:07:35</th>\n",
       "      <td>2056.75</td>\n",
       "      <td>2067.25</td>\n",
       "      <td>2056.25</td>\n",
       "      <td>2064.00</td>\n",
       "      <td>33968</td>\n",
       "      <td>70010061.25</td>\n",
       "      <td>14514</td>\n",
       "    </tr>\n",
       "    <tr>\n",
       "      <th>2015-01-02 09:35:57</th>\n",
       "      <td>2064.00</td>\n",
       "      <td>2067.25</td>\n",
       "      <td>2058.75</td>\n",
       "      <td>2060.50</td>\n",
       "      <td>33972</td>\n",
       "      <td>70087834.25</td>\n",
       "      <td>16152</td>\n",
       "    </tr>\n",
       "    <tr>\n",
       "      <th>2015-01-02 12:59:42</th>\n",
       "      <td>2060.50</td>\n",
       "      <td>2062.00</td>\n",
       "      <td>2057.75</td>\n",
       "      <td>2061.00</td>\n",
       "      <td>33985</td>\n",
       "      <td>70006169.75</td>\n",
       "      <td>15502</td>\n",
       "    </tr>\n",
       "    <tr>\n",
       "      <th>2015-01-02 14:19:34</th>\n",
       "      <td>2061.00</td>\n",
       "      <td>2064.25</td>\n",
       "      <td>2058.75</td>\n",
       "      <td>2063.75</td>\n",
       "      <td>33958</td>\n",
       "      <td>70000723.25</td>\n",
       "      <td>12332</td>\n",
       "    </tr>\n",
       "    <tr>\n",
       "      <th>...</th>\n",
       "      <td>...</td>\n",
       "      <td>...</td>\n",
       "      <td>...</td>\n",
       "      <td>...</td>\n",
       "      <td>...</td>\n",
       "      <td>...</td>\n",
       "      <td>...</td>\n",
       "    </tr>\n",
       "    <tr>\n",
       "      <th>2016-12-30 20:59:59</th>\n",
       "      <td>2236.00</td>\n",
       "      <td>2236.50</td>\n",
       "      <td>2235.75</td>\n",
       "      <td>2236.50</td>\n",
       "      <td>31334</td>\n",
       "      <td>70065316.00</td>\n",
       "      <td>1408</td>\n",
       "    </tr>\n",
       "    <tr>\n",
       "      <th>2016-12-30 21:00:00</th>\n",
       "      <td>2236.25</td>\n",
       "      <td>2237.50</td>\n",
       "      <td>2235.75</td>\n",
       "      <td>2235.75</td>\n",
       "      <td>31456</td>\n",
       "      <td>70355994.75</td>\n",
       "      <td>832</td>\n",
       "    </tr>\n",
       "    <tr>\n",
       "      <th>2016-12-30 21:00:24</th>\n",
       "      <td>2236.00</td>\n",
       "      <td>2237.00</td>\n",
       "      <td>2235.00</td>\n",
       "      <td>2236.25</td>\n",
       "      <td>31319</td>\n",
       "      <td>70029228.00</td>\n",
       "      <td>1123</td>\n",
       "    </tr>\n",
       "    <tr>\n",
       "      <th>2016-12-30 21:03:03</th>\n",
       "      <td>2236.25</td>\n",
       "      <td>2236.50</td>\n",
       "      <td>2233.75</td>\n",
       "      <td>2235.25</td>\n",
       "      <td>31346</td>\n",
       "      <td>70052618.00</td>\n",
       "      <td>1695</td>\n",
       "    </tr>\n",
       "    <tr>\n",
       "      <th>2016-12-30 21:13:32</th>\n",
       "      <td>2235.00</td>\n",
       "      <td>2236.00</td>\n",
       "      <td>2234.25</td>\n",
       "      <td>2235.00</td>\n",
       "      <td>31346</td>\n",
       "      <td>70064599.00</td>\n",
       "      <td>1869</td>\n",
       "    </tr>\n",
       "  </tbody>\n",
       "</table>\n",
       "<p>24077 rows × 7 columns</p>\n",
       "</div>"
      ],
      "text/plain": [
       "                        open     high      low    close  cum_vol   cum_dollar  \\\n",
       "date_time                                                                       \n",
       "2015-01-01 23:00:24  2053.00  2056.75  2051.00  2056.75    34102  70001096.75   \n",
       "2015-01-02 07:07:35  2056.75  2067.25  2056.25  2064.00    33968  70010061.25   \n",
       "2015-01-02 09:35:57  2064.00  2067.25  2058.75  2060.50    33972  70087834.25   \n",
       "2015-01-02 12:59:42  2060.50  2062.00  2057.75  2061.00    33985  70006169.75   \n",
       "2015-01-02 14:19:34  2061.00  2064.25  2058.75  2063.75    33958  70000723.25   \n",
       "...                      ...      ...      ...      ...      ...          ...   \n",
       "2016-12-30 20:59:59  2236.00  2236.50  2235.75  2236.50    31334  70065316.00   \n",
       "2016-12-30 21:00:00  2236.25  2237.50  2235.75  2235.75    31456  70355994.75   \n",
       "2016-12-30 21:00:24  2236.00  2237.00  2235.00  2236.25    31319  70029228.00   \n",
       "2016-12-30 21:03:03  2236.25  2236.50  2233.75  2235.25    31346  70052618.00   \n",
       "2016-12-30 21:13:32  2235.00  2236.00  2234.25  2235.00    31346  70064599.00   \n",
       "\n",
       "                     cum_ticks  \n",
       "date_time                       \n",
       "2015-01-01 23:00:24       8478  \n",
       "2015-01-02 07:07:35      14514  \n",
       "2015-01-02 09:35:57      16152  \n",
       "2015-01-02 12:59:42      15502  \n",
       "2015-01-02 14:19:34      12332  \n",
       "...                        ...  \n",
       "2016-12-30 20:59:59       1408  \n",
       "2016-12-30 21:00:00        832  \n",
       "2016-12-30 21:00:24       1123  \n",
       "2016-12-30 21:03:03       1695  \n",
       "2016-12-30 21:13:32       1869  \n",
       "\n",
       "[24077 rows x 7 columns]"
      ]
     },
     "execution_count": 3,
     "metadata": {},
     "output_type": "execute_result"
    }
   ],
   "source": [
    "dollar_bars = dollar_bars.reset_index().drop_duplicates(subset='date_time', keep='last').set_index('date_time') # 중복 날짜 없애기\n",
    "dollar_bars"
   ]
  },
  {
   "cell_type": "markdown",
   "metadata": {},
   "source": [
    "### 1. Side 구하기"
   ]
  },
  {
   "cell_type": "code",
   "execution_count": 4,
   "metadata": {},
   "outputs": [],
   "source": [
    "from mlfinlab import *"
   ]
  },
  {
   "cell_type": "code",
   "execution_count": 6,
   "metadata": {},
   "outputs": [],
   "source": [
    "def mavg(df,fast_window,slow_window): #이동평균선 \n",
    "    df['fast_mavg'] = df['close'].rolling(window=fast_window, min_periods=fast_window, center=False).mean()\n",
    "    df['slow_mavg'] = df['close'].rolling(window=slow_window, min_periods=slow_window, center=False).mean()\n",
    "    return df\n",
    "def side(df): #이동평균선에 따른 side\n",
    "    df['side'] = np.nan\n",
    "    long_signals = df['fast_mavg'] >= df['slow_mavg'] #매수\n",
    "    short_signals = df['fast_mavg'] < df['slow_mavg']  #매도\n",
    "    df.loc[long_signals, 'side'] = 1\n",
    "    df.loc[short_signals, 'side'] = -1\n",
    "    # 시차 1개 줘서 Look ahead bias 없애기\n",
    "    df['side'] = df['side'].shift(1)\n",
    "    return df"
   ]
  },
  {
   "cell_type": "code",
   "execution_count": 7,
   "metadata": {},
   "outputs": [],
   "source": [
    "dollar_bars=mavg(dollar_bars,20,60)\n",
    "dollar_bars=side(dollar_bars)"
   ]
  },
  {
   "cell_type": "code",
   "execution_count": 15,
   "metadata": {
    "scrolled": true
   },
   "outputs": [
    {
     "data": {
      "text/html": [
       "<div>\n",
       "<style scoped>\n",
       "    .dataframe tbody tr th:only-of-type {\n",
       "        vertical-align: middle;\n",
       "    }\n",
       "\n",
       "    .dataframe tbody tr th {\n",
       "        vertical-align: top;\n",
       "    }\n",
       "\n",
       "    .dataframe thead th {\n",
       "        text-align: right;\n",
       "    }\n",
       "</style>\n",
       "<table border=\"1\" class=\"dataframe\">\n",
       "  <thead>\n",
       "    <tr style=\"text-align: right;\">\n",
       "      <th></th>\n",
       "      <th>open</th>\n",
       "      <th>high</th>\n",
       "      <th>low</th>\n",
       "      <th>close</th>\n",
       "      <th>cum_vol</th>\n",
       "      <th>cum_dollar</th>\n",
       "      <th>cum_ticks</th>\n",
       "      <th>fast_mavg</th>\n",
       "      <th>slow_mavg</th>\n",
       "      <th>side</th>\n",
       "    </tr>\n",
       "    <tr>\n",
       "      <th>date_time</th>\n",
       "      <th></th>\n",
       "      <th></th>\n",
       "      <th></th>\n",
       "      <th></th>\n",
       "      <th></th>\n",
       "      <th></th>\n",
       "      <th></th>\n",
       "      <th></th>\n",
       "      <th></th>\n",
       "      <th></th>\n",
       "    </tr>\n",
       "  </thead>\n",
       "  <tbody>\n",
       "    <tr>\n",
       "      <th>2015-01-01 23:00:24</th>\n",
       "      <td>2053.00</td>\n",
       "      <td>2056.75</td>\n",
       "      <td>2051.00</td>\n",
       "      <td>2056.75</td>\n",
       "      <td>34102</td>\n",
       "      <td>70001096.75</td>\n",
       "      <td>8478</td>\n",
       "      <td>NaN</td>\n",
       "      <td>NaN</td>\n",
       "      <td>NaN</td>\n",
       "    </tr>\n",
       "    <tr>\n",
       "      <th>2015-01-02 07:07:35</th>\n",
       "      <td>2056.75</td>\n",
       "      <td>2067.25</td>\n",
       "      <td>2056.25</td>\n",
       "      <td>2064.00</td>\n",
       "      <td>33968</td>\n",
       "      <td>70010061.25</td>\n",
       "      <td>14514</td>\n",
       "      <td>NaN</td>\n",
       "      <td>NaN</td>\n",
       "      <td>NaN</td>\n",
       "    </tr>\n",
       "    <tr>\n",
       "      <th>2015-01-02 09:35:57</th>\n",
       "      <td>2064.00</td>\n",
       "      <td>2067.25</td>\n",
       "      <td>2058.75</td>\n",
       "      <td>2060.50</td>\n",
       "      <td>33972</td>\n",
       "      <td>70087834.25</td>\n",
       "      <td>16152</td>\n",
       "      <td>NaN</td>\n",
       "      <td>NaN</td>\n",
       "      <td>NaN</td>\n",
       "    </tr>\n",
       "    <tr>\n",
       "      <th>2015-01-02 12:59:42</th>\n",
       "      <td>2060.50</td>\n",
       "      <td>2062.00</td>\n",
       "      <td>2057.75</td>\n",
       "      <td>2061.00</td>\n",
       "      <td>33985</td>\n",
       "      <td>70006169.75</td>\n",
       "      <td>15502</td>\n",
       "      <td>NaN</td>\n",
       "      <td>NaN</td>\n",
       "      <td>NaN</td>\n",
       "    </tr>\n",
       "    <tr>\n",
       "      <th>2015-01-02 14:19:34</th>\n",
       "      <td>2061.00</td>\n",
       "      <td>2064.25</td>\n",
       "      <td>2058.75</td>\n",
       "      <td>2063.75</td>\n",
       "      <td>33958</td>\n",
       "      <td>70000723.25</td>\n",
       "      <td>12332</td>\n",
       "      <td>NaN</td>\n",
       "      <td>NaN</td>\n",
       "      <td>NaN</td>\n",
       "    </tr>\n",
       "    <tr>\n",
       "      <th>...</th>\n",
       "      <td>...</td>\n",
       "      <td>...</td>\n",
       "      <td>...</td>\n",
       "      <td>...</td>\n",
       "      <td>...</td>\n",
       "      <td>...</td>\n",
       "      <td>...</td>\n",
       "      <td>...</td>\n",
       "      <td>...</td>\n",
       "      <td>...</td>\n",
       "    </tr>\n",
       "    <tr>\n",
       "      <th>2016-12-30 20:59:59</th>\n",
       "      <td>2236.00</td>\n",
       "      <td>2236.50</td>\n",
       "      <td>2235.75</td>\n",
       "      <td>2236.50</td>\n",
       "      <td>31334</td>\n",
       "      <td>70065316.00</td>\n",
       "      <td>1408</td>\n",
       "      <td>2234.1750</td>\n",
       "      <td>2240.604167</td>\n",
       "      <td>-1.0</td>\n",
       "    </tr>\n",
       "    <tr>\n",
       "      <th>2016-12-30 21:00:00</th>\n",
       "      <td>2236.25</td>\n",
       "      <td>2237.50</td>\n",
       "      <td>2235.75</td>\n",
       "      <td>2235.75</td>\n",
       "      <td>31456</td>\n",
       "      <td>70355994.75</td>\n",
       "      <td>832</td>\n",
       "      <td>2233.9875</td>\n",
       "      <td>2240.375000</td>\n",
       "      <td>-1.0</td>\n",
       "    </tr>\n",
       "    <tr>\n",
       "      <th>2016-12-30 21:00:24</th>\n",
       "      <td>2236.00</td>\n",
       "      <td>2237.00</td>\n",
       "      <td>2235.00</td>\n",
       "      <td>2236.25</td>\n",
       "      <td>31319</td>\n",
       "      <td>70029228.00</td>\n",
       "      <td>1123</td>\n",
       "      <td>2233.9000</td>\n",
       "      <td>2240.220833</td>\n",
       "      <td>-1.0</td>\n",
       "    </tr>\n",
       "    <tr>\n",
       "      <th>2016-12-30 21:03:03</th>\n",
       "      <td>2236.25</td>\n",
       "      <td>2236.50</td>\n",
       "      <td>2233.75</td>\n",
       "      <td>2235.25</td>\n",
       "      <td>31346</td>\n",
       "      <td>70052618.00</td>\n",
       "      <td>1695</td>\n",
       "      <td>2233.8500</td>\n",
       "      <td>2240.016667</td>\n",
       "      <td>-1.0</td>\n",
       "    </tr>\n",
       "    <tr>\n",
       "      <th>2016-12-30 21:13:32</th>\n",
       "      <td>2235.00</td>\n",
       "      <td>2236.00</td>\n",
       "      <td>2234.25</td>\n",
       "      <td>2235.00</td>\n",
       "      <td>31346</td>\n",
       "      <td>70064599.00</td>\n",
       "      <td>1869</td>\n",
       "      <td>2233.6750</td>\n",
       "      <td>2239.816667</td>\n",
       "      <td>-1.0</td>\n",
       "    </tr>\n",
       "  </tbody>\n",
       "</table>\n",
       "<p>24077 rows × 10 columns</p>\n",
       "</div>"
      ],
      "text/plain": [
       "                        open     high      low    close  cum_vol   cum_dollar  \\\n",
       "date_time                                                                       \n",
       "2015-01-01 23:00:24  2053.00  2056.75  2051.00  2056.75    34102  70001096.75   \n",
       "2015-01-02 07:07:35  2056.75  2067.25  2056.25  2064.00    33968  70010061.25   \n",
       "2015-01-02 09:35:57  2064.00  2067.25  2058.75  2060.50    33972  70087834.25   \n",
       "2015-01-02 12:59:42  2060.50  2062.00  2057.75  2061.00    33985  70006169.75   \n",
       "2015-01-02 14:19:34  2061.00  2064.25  2058.75  2063.75    33958  70000723.25   \n",
       "...                      ...      ...      ...      ...      ...          ...   \n",
       "2016-12-30 20:59:59  2236.00  2236.50  2235.75  2236.50    31334  70065316.00   \n",
       "2016-12-30 21:00:00  2236.25  2237.50  2235.75  2235.75    31456  70355994.75   \n",
       "2016-12-30 21:00:24  2236.00  2237.00  2235.00  2236.25    31319  70029228.00   \n",
       "2016-12-30 21:03:03  2236.25  2236.50  2233.75  2235.25    31346  70052618.00   \n",
       "2016-12-30 21:13:32  2235.00  2236.00  2234.25  2235.00    31346  70064599.00   \n",
       "\n",
       "                     cum_ticks  fast_mavg    slow_mavg  side  \n",
       "date_time                                                     \n",
       "2015-01-01 23:00:24       8478        NaN          NaN   NaN  \n",
       "2015-01-02 07:07:35      14514        NaN          NaN   NaN  \n",
       "2015-01-02 09:35:57      16152        NaN          NaN   NaN  \n",
       "2015-01-02 12:59:42      15502        NaN          NaN   NaN  \n",
       "2015-01-02 14:19:34      12332        NaN          NaN   NaN  \n",
       "...                        ...        ...          ...   ...  \n",
       "2016-12-30 20:59:59       1408  2234.1750  2240.604167  -1.0  \n",
       "2016-12-30 21:00:00        832  2233.9875  2240.375000  -1.0  \n",
       "2016-12-30 21:00:24       1123  2233.9000  2240.220833  -1.0  \n",
       "2016-12-30 21:03:03       1695  2233.8500  2240.016667  -1.0  \n",
       "2016-12-30 21:13:32       1869  2233.6750  2239.816667  -1.0  \n",
       "\n",
       "[24077 rows x 10 columns]"
      ]
     },
     "execution_count": 15,
     "metadata": {},
     "output_type": "execute_result"
    }
   ],
   "source": [
    "dollar_bars"
   ]
  },
  {
   "cell_type": "markdown",
   "metadata": {},
   "source": [
    "### 2. Tripple Barrier"
   ]
  },
  {
   "cell_type": "code",
   "execution_count": 39,
   "metadata": {
    "scrolled": true
   },
   "outputs": [],
   "source": [
    "volatility = util.get_daily_vol(close=dollar_bars.close, lookback=500) #변동성, 수평 barrier 폭\n",
    "cusum_events = filters.cusum_filter(dollar_bars.close, threshold = volatility.mean()) #cumsum events\n",
    "vertical_barriers = labeling.add_vertical_barrier(t_events=cusum_events, close=dollar_bars.close, num_days=30) #vertical barrier 세우기"
   ]
  },
  {
   "cell_type": "code",
   "execution_count": 42,
   "metadata": {
    "scrolled": false
   },
   "outputs": [
    {
     "name": "stderr",
     "output_type": "stream",
     "text": [
      "2020-08-12 14:22:08.339766 50.0% apply_pt_sl_on_t1 done after 0.28 minutes. Remaining 0.28 minutes.\r",
      "2020-08-12 14:22:08.421549 100.0% apply_pt_sl_on_t1 done after 0.28 minutes. Remaining 0.0 minutes.\n"
     ]
    }
   ],
   "source": [
    "# tripple barrier 구하기\n",
    "pt_sl = [1, 2]\n",
    "\n",
    "min_ret = 0.003\n",
    "tripple_barrier_events = labeling.get_events(close=dollar_bars.close,\n",
    "                                               t_events=cusum_events,\n",
    "                                               pt_sl=pt_sl,\n",
    "                                               target=volatility,\n",
    "                                               min_ret=min_ret,\n",
    "                                               num_threads=2,\n",
    "                                               vertical_barrier_times=vertical_barriers,\n",
    "                                               side_prediction = dollar_bars['side'])"
   ]
  },
  {
   "cell_type": "code",
   "execution_count": 43,
   "metadata": {
    "scrolled": false
   },
   "outputs": [
    {
     "data": {
      "text/html": [
       "<div>\n",
       "<style scoped>\n",
       "    .dataframe tbody tr th:only-of-type {\n",
       "        vertical-align: middle;\n",
       "    }\n",
       "\n",
       "    .dataframe tbody tr th {\n",
       "        vertical-align: top;\n",
       "    }\n",
       "\n",
       "    .dataframe thead th {\n",
       "        text-align: right;\n",
       "    }\n",
       "</style>\n",
       "<table border=\"1\" class=\"dataframe\">\n",
       "  <thead>\n",
       "    <tr style=\"text-align: right;\">\n",
       "      <th></th>\n",
       "      <th>t1</th>\n",
       "      <th>trgt</th>\n",
       "      <th>side</th>\n",
       "      <th>pt</th>\n",
       "      <th>sl</th>\n",
       "    </tr>\n",
       "  </thead>\n",
       "  <tbody>\n",
       "    <tr>\n",
       "      <th>2015-01-05 17:26:59</th>\n",
       "      <td>2015-01-06 16:01:22</td>\n",
       "      <td>0.003973</td>\n",
       "      <td>-1.0</td>\n",
       "      <td>1</td>\n",
       "      <td>2</td>\n",
       "    </tr>\n",
       "    <tr>\n",
       "      <th>2015-01-06 16:19:17</th>\n",
       "      <td>2015-01-06 17:04:56</td>\n",
       "      <td>0.004741</td>\n",
       "      <td>-1.0</td>\n",
       "      <td>1</td>\n",
       "      <td>2</td>\n",
       "    </tr>\n",
       "    <tr>\n",
       "      <th>2015-01-06 18:27:02</th>\n",
       "      <td>2015-01-06 19:53:59</td>\n",
       "      <td>0.004349</td>\n",
       "      <td>-1.0</td>\n",
       "      <td>1</td>\n",
       "      <td>2</td>\n",
       "    </tr>\n",
       "    <tr>\n",
       "      <th>2015-01-06 19:53:59</th>\n",
       "      <td>2015-01-06 20:57:41</td>\n",
       "      <td>0.004298</td>\n",
       "      <td>-1.0</td>\n",
       "      <td>1</td>\n",
       "      <td>2</td>\n",
       "    </tr>\n",
       "    <tr>\n",
       "      <th>2015-01-07 13:06:59</th>\n",
       "      <td>2015-01-07 17:08:58</td>\n",
       "      <td>0.004380</td>\n",
       "      <td>1.0</td>\n",
       "      <td>1</td>\n",
       "      <td>2</td>\n",
       "    </tr>\n",
       "    <tr>\n",
       "      <th>...</th>\n",
       "      <td>...</td>\n",
       "      <td>...</td>\n",
       "      <td>...</td>\n",
       "      <td>...</td>\n",
       "      <td>...</td>\n",
       "    </tr>\n",
       "    <tr>\n",
       "      <th>2016-12-13 17:16:09</th>\n",
       "      <td>2016-12-28 20:59:50</td>\n",
       "      <td>0.005451</td>\n",
       "      <td>1.0</td>\n",
       "      <td>1</td>\n",
       "      <td>2</td>\n",
       "    </tr>\n",
       "    <tr>\n",
       "      <th>2016-12-14 20:09:51</th>\n",
       "      <td>2016-12-30 19:02:58</td>\n",
       "      <td>0.005395</td>\n",
       "      <td>-1.0</td>\n",
       "      <td>1</td>\n",
       "      <td>2</td>\n",
       "    </tr>\n",
       "    <tr>\n",
       "      <th>2016-12-15 16:03:52</th>\n",
       "      <td>2016-12-30 15:29:58</td>\n",
       "      <td>0.005829</td>\n",
       "      <td>1.0</td>\n",
       "      <td>1</td>\n",
       "      <td>2</td>\n",
       "    </tr>\n",
       "    <tr>\n",
       "      <th>2016-12-28 17:41:36</th>\n",
       "      <td>2016-12-30 15:29:58</td>\n",
       "      <td>0.004551</td>\n",
       "      <td>-1.0</td>\n",
       "      <td>1</td>\n",
       "      <td>2</td>\n",
       "    </tr>\n",
       "    <tr>\n",
       "      <th>2016-12-30 19:55:31</th>\n",
       "      <td>NaT</td>\n",
       "      <td>0.004672</td>\n",
       "      <td>-1.0</td>\n",
       "      <td>1</td>\n",
       "      <td>2</td>\n",
       "    </tr>\n",
       "  </tbody>\n",
       "</table>\n",
       "<p>773 rows × 5 columns</p>\n",
       "</div>"
      ],
      "text/plain": [
       "                                     t1      trgt  side  pt  sl\n",
       "2015-01-05 17:26:59 2015-01-06 16:01:22  0.003973  -1.0   1   2\n",
       "2015-01-06 16:19:17 2015-01-06 17:04:56  0.004741  -1.0   1   2\n",
       "2015-01-06 18:27:02 2015-01-06 19:53:59  0.004349  -1.0   1   2\n",
       "2015-01-06 19:53:59 2015-01-06 20:57:41  0.004298  -1.0   1   2\n",
       "2015-01-07 13:06:59 2015-01-07 17:08:58  0.004380   1.0   1   2\n",
       "...                                 ...       ...   ...  ..  ..\n",
       "2016-12-13 17:16:09 2016-12-28 20:59:50  0.005451   1.0   1   2\n",
       "2016-12-14 20:09:51 2016-12-30 19:02:58  0.005395  -1.0   1   2\n",
       "2016-12-15 16:03:52 2016-12-30 15:29:58  0.005829   1.0   1   2\n",
       "2016-12-28 17:41:36 2016-12-30 15:29:58  0.004551  -1.0   1   2\n",
       "2016-12-30 19:55:31                 NaT  0.004672  -1.0   1   2\n",
       "\n",
       "[773 rows x 5 columns]"
      ]
     },
     "execution_count": 43,
     "metadata": {},
     "output_type": "execute_result"
    }
   ],
   "source": [
    "tripple_barrier_events"
   ]
  },
  {
   "cell_type": "code",
   "execution_count": 44,
   "metadata": {
    "scrolled": true
   },
   "outputs": [
    {
     "data": {
      "text/html": [
       "<div>\n",
       "<style scoped>\n",
       "    .dataframe tbody tr th:only-of-type {\n",
       "        vertical-align: middle;\n",
       "    }\n",
       "\n",
       "    .dataframe tbody tr th {\n",
       "        vertical-align: top;\n",
       "    }\n",
       "\n",
       "    .dataframe thead th {\n",
       "        text-align: right;\n",
       "    }\n",
       "</style>\n",
       "<table border=\"1\" class=\"dataframe\">\n",
       "  <thead>\n",
       "    <tr style=\"text-align: right;\">\n",
       "      <th></th>\n",
       "      <th>ret</th>\n",
       "      <th>trgt</th>\n",
       "      <th>bin</th>\n",
       "      <th>side</th>\n",
       "    </tr>\n",
       "  </thead>\n",
       "  <tbody>\n",
       "    <tr>\n",
       "      <th>2015-01-05 17:26:59</th>\n",
       "      <td>0.005232</td>\n",
       "      <td>0.003973</td>\n",
       "      <td>1</td>\n",
       "      <td>-1.0</td>\n",
       "    </tr>\n",
       "    <tr>\n",
       "      <th>2015-01-06 16:19:17</th>\n",
       "      <td>0.005521</td>\n",
       "      <td>0.004741</td>\n",
       "      <td>1</td>\n",
       "      <td>-1.0</td>\n",
       "    </tr>\n",
       "    <tr>\n",
       "      <th>2015-01-06 18:27:02</th>\n",
       "      <td>-0.009724</td>\n",
       "      <td>0.004349</td>\n",
       "      <td>0</td>\n",
       "      <td>-1.0</td>\n",
       "    </tr>\n",
       "    <tr>\n",
       "      <th>2015-01-06 19:53:59</th>\n",
       "      <td>0.004508</td>\n",
       "      <td>0.004298</td>\n",
       "      <td>1</td>\n",
       "      <td>-1.0</td>\n",
       "    </tr>\n",
       "    <tr>\n",
       "      <th>2015-01-07 13:06:59</th>\n",
       "      <td>0.006217</td>\n",
       "      <td>0.004380</td>\n",
       "      <td>1</td>\n",
       "      <td>1.0</td>\n",
       "    </tr>\n",
       "    <tr>\n",
       "      <th>...</th>\n",
       "      <td>...</td>\n",
       "      <td>...</td>\n",
       "      <td>...</td>\n",
       "      <td>...</td>\n",
       "    </tr>\n",
       "    <tr>\n",
       "      <th>2016-12-09 20:17:20</th>\n",
       "      <td>0.006545</td>\n",
       "      <td>0.005961</td>\n",
       "      <td>1</td>\n",
       "      <td>1.0</td>\n",
       "    </tr>\n",
       "    <tr>\n",
       "      <th>2016-12-13 17:16:09</th>\n",
       "      <td>-0.010910</td>\n",
       "      <td>0.005451</td>\n",
       "      <td>0</td>\n",
       "      <td>1.0</td>\n",
       "    </tr>\n",
       "    <tr>\n",
       "      <th>2016-12-14 20:09:51</th>\n",
       "      <td>0.005703</td>\n",
       "      <td>0.005395</td>\n",
       "      <td>1</td>\n",
       "      <td>-1.0</td>\n",
       "    </tr>\n",
       "    <tr>\n",
       "      <th>2016-12-15 16:03:52</th>\n",
       "      <td>-0.011924</td>\n",
       "      <td>0.005829</td>\n",
       "      <td>0</td>\n",
       "      <td>1.0</td>\n",
       "    </tr>\n",
       "    <tr>\n",
       "      <th>2016-12-28 17:41:36</th>\n",
       "      <td>0.004582</td>\n",
       "      <td>0.004551</td>\n",
       "      <td>1</td>\n",
       "      <td>-1.0</td>\n",
       "    </tr>\n",
       "  </tbody>\n",
       "</table>\n",
       "<p>772 rows × 4 columns</p>\n",
       "</div>"
      ],
      "text/plain": [
       "                          ret      trgt  bin  side\n",
       "2015-01-05 17:26:59  0.005232  0.003973    1  -1.0\n",
       "2015-01-06 16:19:17  0.005521  0.004741    1  -1.0\n",
       "2015-01-06 18:27:02 -0.009724  0.004349    0  -1.0\n",
       "2015-01-06 19:53:59  0.004508  0.004298    1  -1.0\n",
       "2015-01-07 13:06:59  0.006217  0.004380    1   1.0\n",
       "...                       ...       ...  ...   ...\n",
       "2016-12-09 20:17:20  0.006545  0.005961    1   1.0\n",
       "2016-12-13 17:16:09 -0.010910  0.005451    0   1.0\n",
       "2016-12-14 20:09:51  0.005703  0.005395    1  -1.0\n",
       "2016-12-15 16:03:52 -0.011924  0.005829    0   1.0\n",
       "2016-12-28 17:41:36  0.004582  0.004551    1  -1.0\n",
       "\n",
       "[772 rows x 4 columns]"
      ]
     },
     "execution_count": 44,
     "metadata": {},
     "output_type": "execute_result"
    }
   ],
   "source": [
    "bins = labeling.get_bins(tripple_barrier_events, dollar_bars.close)\n",
    "bins"
   ]
  },
  {
   "cell_type": "markdown",
   "metadata": {},
   "source": [
    "# 3번 Budget Approach\n",
    "\n",
    "## 3 (a) \n",
    "concurrent long bets, c_l의 최대값 구하기"
   ]
  },
  {
   "cell_type": "code",
   "execution_count": 45,
   "metadata": {
    "scrolled": true
   },
   "outputs": [
    {
     "data": {
      "text/html": [
       "<div>\n",
       "<style scoped>\n",
       "    .dataframe tbody tr th:only-of-type {\n",
       "        vertical-align: middle;\n",
       "    }\n",
       "\n",
       "    .dataframe tbody tr th {\n",
       "        vertical-align: top;\n",
       "    }\n",
       "\n",
       "    .dataframe thead th {\n",
       "        text-align: right;\n",
       "    }\n",
       "</style>\n",
       "<table border=\"1\" class=\"dataframe\">\n",
       "  <thead>\n",
       "    <tr style=\"text-align: right;\">\n",
       "      <th></th>\n",
       "      <th>t1</th>\n",
       "      <th>trgt</th>\n",
       "      <th>side</th>\n",
       "      <th>pt</th>\n",
       "      <th>sl</th>\n",
       "    </tr>\n",
       "  </thead>\n",
       "  <tbody>\n",
       "    <tr>\n",
       "      <th>2015-01-05 17:26:59</th>\n",
       "      <td>2015-01-06 16:01:22</td>\n",
       "      <td>0.003973</td>\n",
       "      <td>-1.0</td>\n",
       "      <td>1</td>\n",
       "      <td>2</td>\n",
       "    </tr>\n",
       "    <tr>\n",
       "      <th>2015-01-06 16:19:17</th>\n",
       "      <td>2015-01-06 17:04:56</td>\n",
       "      <td>0.004741</td>\n",
       "      <td>-1.0</td>\n",
       "      <td>1</td>\n",
       "      <td>2</td>\n",
       "    </tr>\n",
       "    <tr>\n",
       "      <th>2015-01-06 18:27:02</th>\n",
       "      <td>2015-01-06 19:53:59</td>\n",
       "      <td>0.004349</td>\n",
       "      <td>-1.0</td>\n",
       "      <td>1</td>\n",
       "      <td>2</td>\n",
       "    </tr>\n",
       "    <tr>\n",
       "      <th>2015-01-06 19:53:59</th>\n",
       "      <td>2015-01-06 20:57:41</td>\n",
       "      <td>0.004298</td>\n",
       "      <td>-1.0</td>\n",
       "      <td>1</td>\n",
       "      <td>2</td>\n",
       "    </tr>\n",
       "    <tr>\n",
       "      <th>2015-01-07 13:06:59</th>\n",
       "      <td>2015-01-07 17:08:58</td>\n",
       "      <td>0.004380</td>\n",
       "      <td>1.0</td>\n",
       "      <td>1</td>\n",
       "      <td>2</td>\n",
       "    </tr>\n",
       "    <tr>\n",
       "      <th>...</th>\n",
       "      <td>...</td>\n",
       "      <td>...</td>\n",
       "      <td>...</td>\n",
       "      <td>...</td>\n",
       "      <td>...</td>\n",
       "    </tr>\n",
       "    <tr>\n",
       "      <th>2016-12-09 20:17:20</th>\n",
       "      <td>2016-12-13 17:16:09</td>\n",
       "      <td>0.005961</td>\n",
       "      <td>1.0</td>\n",
       "      <td>1</td>\n",
       "      <td>2</td>\n",
       "    </tr>\n",
       "    <tr>\n",
       "      <th>2016-12-13 17:16:09</th>\n",
       "      <td>2016-12-28 20:59:50</td>\n",
       "      <td>0.005451</td>\n",
       "      <td>1.0</td>\n",
       "      <td>1</td>\n",
       "      <td>2</td>\n",
       "    </tr>\n",
       "    <tr>\n",
       "      <th>2016-12-14 20:09:51</th>\n",
       "      <td>2016-12-30 19:02:58</td>\n",
       "      <td>0.005395</td>\n",
       "      <td>-1.0</td>\n",
       "      <td>1</td>\n",
       "      <td>2</td>\n",
       "    </tr>\n",
       "    <tr>\n",
       "      <th>2016-12-15 16:03:52</th>\n",
       "      <td>2016-12-30 15:29:58</td>\n",
       "      <td>0.005829</td>\n",
       "      <td>1.0</td>\n",
       "      <td>1</td>\n",
       "      <td>2</td>\n",
       "    </tr>\n",
       "    <tr>\n",
       "      <th>2016-12-28 17:41:36</th>\n",
       "      <td>2016-12-30 15:29:58</td>\n",
       "      <td>0.004551</td>\n",
       "      <td>-1.0</td>\n",
       "      <td>1</td>\n",
       "      <td>2</td>\n",
       "    </tr>\n",
       "  </tbody>\n",
       "</table>\n",
       "<p>772 rows × 5 columns</p>\n",
       "</div>"
      ],
      "text/plain": [
       "                                     t1      trgt  side  pt  sl\n",
       "2015-01-05 17:26:59 2015-01-06 16:01:22  0.003973  -1.0   1   2\n",
       "2015-01-06 16:19:17 2015-01-06 17:04:56  0.004741  -1.0   1   2\n",
       "2015-01-06 18:27:02 2015-01-06 19:53:59  0.004349  -1.0   1   2\n",
       "2015-01-06 19:53:59 2015-01-06 20:57:41  0.004298  -1.0   1   2\n",
       "2015-01-07 13:06:59 2015-01-07 17:08:58  0.004380   1.0   1   2\n",
       "...                                 ...       ...   ...  ..  ..\n",
       "2016-12-09 20:17:20 2016-12-13 17:16:09  0.005961   1.0   1   2\n",
       "2016-12-13 17:16:09 2016-12-28 20:59:50  0.005451   1.0   1   2\n",
       "2016-12-14 20:09:51 2016-12-30 19:02:58  0.005395  -1.0   1   2\n",
       "2016-12-15 16:03:52 2016-12-30 15:29:58  0.005829   1.0   1   2\n",
       "2016-12-28 17:41:36 2016-12-30 15:29:58  0.004551  -1.0   1   2\n",
       "\n",
       "[772 rows x 5 columns]"
      ]
     },
     "execution_count": 45,
     "metadata": {},
     "output_type": "execute_result"
    }
   ],
   "source": [
    "tripple_barrier_events=tripple_barrier_events.dropna()\n",
    "tripple_barrier_events"
   ]
  },
  {
   "cell_type": "code",
   "execution_count": 46,
   "metadata": {},
   "outputs": [
    {
     "name": "stderr",
     "output_type": "stream",
     "text": [
      "C:\\ProgramData\\Anaconda3\\lib\\site-packages\\ipykernel_launcher.py:1: DeprecationWarning: The default dtype for empty Series will be 'object' instead of 'float64' in a future version. Specify a dtype explicitly to silence this warning.\n",
      "  \"\"\"Entry point for launching an IPython kernel.\n"
     ]
    }
   ],
   "source": [
    "c_l = pd.Series() # 빈 시리즈\n",
    "\n",
    "for idx in tripple_barrier_events.index:    \n",
    "    df_long_active_idx = set(tripple_barrier_events[(tripple_barrier_events.index<=idx) \n",
    "                                                   & (tripple_barrier_events.t1>idx) & (tripple_barrier_events.side==1)].index)\n",
    "    c_l[idx] = len(df_long_active_idx)"
   ]
  },
  {
   "cell_type": "code",
   "execution_count": 47,
   "metadata": {},
   "outputs": [
    {
     "data": {
      "text/plain": [
       "2015-01-05 17:26:59    0\n",
       "2015-01-06 16:19:17    0\n",
       "2015-01-06 18:27:02    0\n",
       "2015-01-06 19:53:59    0\n",
       "2015-01-07 13:06:59    1\n",
       "                      ..\n",
       "2016-12-09 20:17:20    1\n",
       "2016-12-13 17:16:09    1\n",
       "2016-12-14 20:09:51    1\n",
       "2016-12-15 16:03:52    2\n",
       "2016-12-28 17:41:36    2\n",
       "Length: 772, dtype: int64"
      ]
     },
     "execution_count": 47,
     "metadata": {},
     "output_type": "execute_result"
    }
   ],
   "source": [
    "c_l"
   ]
  },
  {
   "cell_type": "code",
   "execution_count": 48,
   "metadata": {},
   "outputs": [
    {
     "data": {
      "text/plain": [
       "16"
      ]
     },
     "execution_count": 48,
     "metadata": {},
     "output_type": "execute_result"
    }
   ],
   "source": [
    "c_l.max()"
   ]
  },
  {
   "cell_type": "markdown",
   "metadata": {},
   "source": [
    "## 3 (b)\n",
    "concurrent short bets, c_s의 최대값 구하기"
   ]
  },
  {
   "cell_type": "code",
   "execution_count": 49,
   "metadata": {},
   "outputs": [
    {
     "name": "stderr",
     "output_type": "stream",
     "text": [
      "C:\\ProgramData\\Anaconda3\\lib\\site-packages\\ipykernel_launcher.py:1: DeprecationWarning: The default dtype for empty Series will be 'object' instead of 'float64' in a future version. Specify a dtype explicitly to silence this warning.\n",
      "  \"\"\"Entry point for launching an IPython kernel.\n"
     ]
    }
   ],
   "source": [
    "c_s = pd.Series()\n",
    "\n",
    "for idx in tripple_barrier_events.index:    \n",
    "    df_short_active_idx = set(triple_barrier_events[(tripple_barrier_events.index<=idx) & (tripple_barrier_events.t1>idx) & (tripple_barrier_events.side==-1)].index)\n",
    "    c_s[idx] = len(df_short_active_idx)\n"
   ]
  },
  {
   "cell_type": "code",
   "execution_count": 50,
   "metadata": {
    "scrolled": false
   },
   "outputs": [
    {
     "data": {
      "text/plain": [
       "2015-01-05 17:26:59    1\n",
       "2015-01-06 16:19:17    1\n",
       "2015-01-06 18:27:02    1\n",
       "2015-01-06 19:53:59    1\n",
       "2015-01-07 13:06:59    0\n",
       "                      ..\n",
       "2016-12-09 20:17:20    0\n",
       "2016-12-13 17:16:09    0\n",
       "2016-12-14 20:09:51    1\n",
       "2016-12-15 16:03:52    1\n",
       "2016-12-28 17:41:36    2\n",
       "Length: 772, dtype: int64"
      ]
     },
     "execution_count": 50,
     "metadata": {},
     "output_type": "execute_result"
    }
   ],
   "source": [
    "c_s"
   ]
  },
  {
   "cell_type": "code",
   "execution_count": 51,
   "metadata": {},
   "outputs": [
    {
     "data": {
      "text/plain": [
       "14"
      ]
     },
     "execution_count": 51,
     "metadata": {},
     "output_type": "execute_result"
    }
   ],
   "source": [
    "c_s.max()"
   ]
  },
  {
   "cell_type": "markdown",
   "metadata": {},
   "source": [
    "### Bet sizing의 모듈을 이용하는 방법: `bet_sizing.bet_size_budget`"
   ]
  },
  {
   "cell_type": "code",
   "execution_count": 52,
   "metadata": {},
   "outputs": [],
   "source": [
    "budget = bs.bet_sizing.bet_size_budget(tripple_barrier_events.t1, tripple_barrier_events.side)"
   ]
  },
  {
   "cell_type": "code",
   "execution_count": 53,
   "metadata": {
    "scrolled": true
   },
   "outputs": [
    {
     "data": {
      "text/plain": [
       "2015-01-05 17:26:59    True\n",
       "2015-01-06 16:19:17    True\n",
       "2015-01-06 18:27:02    True\n",
       "2015-01-06 19:53:59    True\n",
       "2015-01-07 13:06:59    True\n",
       "                       ... \n",
       "2016-12-09 20:17:20    True\n",
       "2016-12-13 17:16:09    True\n",
       "2016-12-14 20:09:51    True\n",
       "2016-12-15 16:03:52    True\n",
       "2016-12-28 17:41:36    True\n",
       "Length: 772, dtype: bool"
      ]
     },
     "execution_count": 53,
     "metadata": {},
     "output_type": "execute_result"
    }
   ],
   "source": [
    "c_l == budget.active_long"
   ]
  },
  {
   "cell_type": "code",
   "execution_count": 54,
   "metadata": {},
   "outputs": [
    {
     "data": {
      "text/plain": [
       "2015-01-05 17:26:59    True\n",
       "2015-01-06 16:19:17    True\n",
       "2015-01-06 18:27:02    True\n",
       "2015-01-06 19:53:59    True\n",
       "2015-01-07 13:06:59    True\n",
       "                       ... \n",
       "2016-12-09 20:17:20    True\n",
       "2016-12-13 17:16:09    True\n",
       "2016-12-14 20:09:51    True\n",
       "2016-12-15 16:03:52    True\n",
       "2016-12-28 17:41:36    True\n",
       "Length: 772, dtype: bool"
      ]
     },
     "execution_count": 54,
     "metadata": {},
     "output_type": "execute_result"
    }
   ],
   "source": [
    "c_s == budget.active_short"
   ]
  },
  {
   "cell_type": "markdown",
   "metadata": {},
   "source": [
    "## 3 (c)\n",
    "bet size m_t 구하기"
   ]
  },
  {
   "cell_type": "code",
   "execution_count": 74,
   "metadata": {},
   "outputs": [
    {
     "data": {
      "text/plain": [
       "2015-01-05 17:26:59   -0.071429\n",
       "2015-01-06 16:19:17   -0.071429\n",
       "2015-01-06 18:27:02   -0.071429\n",
       "2015-01-06 19:53:59   -0.071429\n",
       "2015-01-07 13:06:59    0.062500\n",
       "                         ...   \n",
       "2016-12-09 20:17:20    0.062500\n",
       "2016-12-13 17:16:09    0.062500\n",
       "2016-12-14 20:09:51   -0.008929\n",
       "2016-12-15 16:03:52    0.053571\n",
       "2016-12-28 17:41:36   -0.017857\n",
       "Length: 772, dtype: float64"
      ]
     },
     "execution_count": 74,
     "metadata": {},
     "output_type": "execute_result"
    }
   ],
   "source": [
    "bet_size_3 = c_l/c_l.max() - c_s/c_s.max()\n",
    "bet_size_3"
   ]
  },
  {
   "cell_type": "markdown",
   "metadata": {},
   "source": [
    "# 4번 Cash Reserve\n",
    "## 4(a)\n",
    "c_t 구하기"
   ]
  },
  {
   "cell_type": "code",
   "execution_count": 57,
   "metadata": {
    "scrolled": true
   },
   "outputs": [
    {
     "data": {
      "text/plain": [
       "2015-01-05 17:26:59   -1\n",
       "2015-01-06 16:19:17   -1\n",
       "2015-01-06 18:27:02   -1\n",
       "2015-01-06 19:53:59   -1\n",
       "2015-01-07 13:06:59    1\n",
       "                      ..\n",
       "2016-12-09 20:17:20    1\n",
       "2016-12-13 17:16:09    1\n",
       "2016-12-14 20:09:51    0\n",
       "2016-12-15 16:03:52    1\n",
       "2016-12-28 17:41:36    0\n",
       "Length: 772, dtype: int64"
      ]
     },
     "execution_count": 57,
     "metadata": {},
     "output_type": "execute_result"
    }
   ],
   "source": [
    "# 기간 동안의 매수 betting 개수- 매도 betting 개수 \n",
    "# Bet cuncurrency\n",
    "c_t = c_l-c_s\n",
    "c_t"
   ]
  },
  {
   "cell_type": "markdown",
   "metadata": {},
   "source": [
    "## 4(b)\n",
    "Mixture of two Gaussians 을 c_t에 fit <br/>\n",
    "EF3M 알고리즘 - 3개의 moment"
   ]
  },
  {
   "cell_type": "code",
   "execution_count": 58,
   "metadata": {},
   "outputs": [
    {
     "data": {
      "text/plain": [
       "[0.0,\n",
       " 5.2963502375902705,\n",
       " -3.608204699169865,\n",
       " 110.42883007448258,\n",
       " -250.7288011662082]"
      ]
     },
     "execution_count": 58,
     "metadata": {},
     "output_type": "execute_result"
    }
   ],
   "source": [
    "from scipy.stats import norm, moment\n",
    "central_mmnts = [moment(c_t.to_numpy(), moment=i) for i in range(1, 6)]\n",
    "central_mmnts"
   ]
  },
  {
   "cell_type": "code",
   "execution_count": 59,
   "metadata": {},
   "outputs": [
    {
     "data": {
      "text/plain": [
       "[-0.7746113989637305,\n",
       " 5.896373056994818,\n",
       " -16.38082901554404,\n",
       " 141.03626943005182,\n",
       " -724.9715025906737]"
      ]
     },
     "execution_count": 59,
     "metadata": {},
     "output_type": "execute_result"
    }
   ],
   "source": [
    "raw_mmnts = bs.raw_moment(central_moments=central_mmnts, dist_mean=c_t.mean())\n",
    "raw_mmnts"
   ]
  },
  {
   "cell_type": "code",
   "execution_count": 60,
   "metadata": {},
   "outputs": [
    {
     "name": "stderr",
     "output_type": "stream",
     "text": [
      "|#########################| Completed 30 of 30 fitting rounds."
     ]
    }
   ],
   "source": [
    "m2n = bs.M2N(raw_mmnts, epsilon=1e-5, factor=5, n_runs=30,\n",
    "              variant=2, max_iter=10_000, num_workers=1)\n",
    "\n",
    "df_fit_results = m2n.mp_fit() #mixture of two Gaussians fit하기"
   ]
  },
  {
   "cell_type": "code",
   "execution_count": 61,
   "metadata": {},
   "outputs": [
    {
     "data": {
      "text/html": [
       "<div>\n",
       "<style scoped>\n",
       "    .dataframe tbody tr th:only-of-type {\n",
       "        vertical-align: middle;\n",
       "    }\n",
       "\n",
       "    .dataframe tbody tr th {\n",
       "        vertical-align: top;\n",
       "    }\n",
       "\n",
       "    .dataframe thead th {\n",
       "        text-align: right;\n",
       "    }\n",
       "</style>\n",
       "<table border=\"1\" class=\"dataframe\">\n",
       "  <thead>\n",
       "    <tr style=\"text-align: right;\">\n",
       "      <th></th>\n",
       "      <th>mu_1</th>\n",
       "      <th>mu_2</th>\n",
       "      <th>sigma_1</th>\n",
       "      <th>sigma_2</th>\n",
       "      <th>p_1</th>\n",
       "      <th>error</th>\n",
       "    </tr>\n",
       "  </thead>\n",
       "  <tbody>\n",
       "    <tr>\n",
       "      <th>0</th>\n",
       "      <td>-1.478994</td>\n",
       "      <td>2.614383</td>\n",
       "      <td>2.238781</td>\n",
       "      <td>1.332568</td>\n",
       "      <td>0.998777</td>\n",
       "      <td>107.370257</td>\n",
       "    </tr>\n",
       "    <tr>\n",
       "      <th>0</th>\n",
       "      <td>-1.512871</td>\n",
       "      <td>2.652348</td>\n",
       "      <td>2.216030</td>\n",
       "      <td>1.314621</td>\n",
       "      <td>0.999800</td>\n",
       "      <td>105.705450</td>\n",
       "    </tr>\n",
       "    <tr>\n",
       "      <th>0</th>\n",
       "      <td>-1.504431</td>\n",
       "      <td>2.646154</td>\n",
       "      <td>2.221223</td>\n",
       "      <td>1.317784</td>\n",
       "      <td>0.999953</td>\n",
       "      <td>105.445623</td>\n",
       "    </tr>\n",
       "    <tr>\n",
       "      <th>0</th>\n",
       "      <td>-1.481980</td>\n",
       "      <td>2.617102</td>\n",
       "      <td>2.236868</td>\n",
       "      <td>1.331378</td>\n",
       "      <td>0.998781</td>\n",
       "      <td>107.224962</td>\n",
       "    </tr>\n",
       "    <tr>\n",
       "      <th>0</th>\n",
       "      <td>-1.506021</td>\n",
       "      <td>2.643485</td>\n",
       "      <td>2.220806</td>\n",
       "      <td>1.319013</td>\n",
       "      <td>0.999430</td>\n",
       "      <td>106.002775</td>\n",
       "    </tr>\n",
       "    <tr>\n",
       "      <th>0</th>\n",
       "      <td>-1.524926</td>\n",
       "      <td>2.655279</td>\n",
       "      <td>2.209480</td>\n",
       "      <td>1.312750</td>\n",
       "      <td>0.998833</td>\n",
       "      <td>106.925022</td>\n",
       "    </tr>\n",
       "    <tr>\n",
       "      <th>0</th>\n",
       "      <td>-1.515457</td>\n",
       "      <td>2.655389</td>\n",
       "      <td>2.214271</td>\n",
       "      <td>1.313082</td>\n",
       "      <td>0.999903</td>\n",
       "      <td>105.661391</td>\n",
       "    </tr>\n",
       "    <tr>\n",
       "      <th>0</th>\n",
       "      <td>-1.485623</td>\n",
       "      <td>2.624434</td>\n",
       "      <td>2.233948</td>\n",
       "      <td>1.328048</td>\n",
       "      <td>0.999305</td>\n",
       "      <td>106.415899</td>\n",
       "    </tr>\n",
       "    <tr>\n",
       "      <th>0</th>\n",
       "      <td>-1.474140</td>\n",
       "      <td>2.613892</td>\n",
       "      <td>2.241320</td>\n",
       "      <td>1.332672</td>\n",
       "      <td>0.999279</td>\n",
       "      <td>106.948475</td>\n",
       "    </tr>\n",
       "    <tr>\n",
       "      <th>0</th>\n",
       "      <td>-1.528081</td>\n",
       "      <td>2.660532</td>\n",
       "      <td>2.207105</td>\n",
       "      <td>1.310067</td>\n",
       "      <td>0.999163</td>\n",
       "      <td>106.720048</td>\n",
       "    </tr>\n",
       "    <tr>\n",
       "      <th>0</th>\n",
       "      <td>-1.404853</td>\n",
       "      <td>0.023073</td>\n",
       "      <td>3.170078</td>\n",
       "      <td>1.807554</td>\n",
       "      <td>0.301607</td>\n",
       "      <td>104.388647</td>\n",
       "    </tr>\n",
       "    <tr>\n",
       "      <th>0</th>\n",
       "      <td>-1.746254</td>\n",
       "      <td>0.066338</td>\n",
       "      <td>3.623572</td>\n",
       "      <td>1.989197</td>\n",
       "      <td>0.141142</td>\n",
       "      <td>101.903715</td>\n",
       "    </tr>\n",
       "    <tr>\n",
       "      <th>0</th>\n",
       "      <td>-1.503579</td>\n",
       "      <td>2.640612</td>\n",
       "      <td>2.222466</td>\n",
       "      <td>1.320417</td>\n",
       "      <td>0.999336</td>\n",
       "      <td>106.097770</td>\n",
       "    </tr>\n",
       "    <tr>\n",
       "      <th>0</th>\n",
       "      <td>-1.489626</td>\n",
       "      <td>2.632862</td>\n",
       "      <td>2.230685</td>\n",
       "      <td>1.324162</td>\n",
       "      <td>0.999929</td>\n",
       "      <td>105.561692</td>\n",
       "    </tr>\n",
       "    <tr>\n",
       "      <th>0</th>\n",
       "      <td>-2.082032</td>\n",
       "      <td>0.062165</td>\n",
       "      <td>4.000993</td>\n",
       "      <td>2.068942</td>\n",
       "      <td>0.078080</td>\n",
       "      <td>88.562950</td>\n",
       "    </tr>\n",
       "    <tr>\n",
       "      <th>0</th>\n",
       "      <td>-1.498653</td>\n",
       "      <td>2.636358</td>\n",
       "      <td>2.225590</td>\n",
       "      <td>1.322487</td>\n",
       "      <td>0.999348</td>\n",
       "      <td>106.105115</td>\n",
       "    </tr>\n",
       "    <tr>\n",
       "      <th>0</th>\n",
       "      <td>-1.707629</td>\n",
       "      <td>0.068045</td>\n",
       "      <td>3.575168</td>\n",
       "      <td>1.975964</td>\n",
       "      <td>0.152648</td>\n",
       "      <td>105.023264</td>\n",
       "    </tr>\n",
       "    <tr>\n",
       "      <th>0</th>\n",
       "      <td>-1.668558</td>\n",
       "      <td>0.062862</td>\n",
       "      <td>3.525965</td>\n",
       "      <td>1.961315</td>\n",
       "      <td>0.165201</td>\n",
       "      <td>104.330337</td>\n",
       "    </tr>\n",
       "    <tr>\n",
       "      <th>0</th>\n",
       "      <td>-2.211715</td>\n",
       "      <td>0.035220</td>\n",
       "      <td>4.130843</td>\n",
       "      <td>2.089148</td>\n",
       "      <td>0.063535</td>\n",
       "      <td>82.216792</td>\n",
       "    </tr>\n",
       "    <tr>\n",
       "      <th>0</th>\n",
       "      <td>-1.488642</td>\n",
       "      <td>0.046536</td>\n",
       "      <td>3.286147</td>\n",
       "      <td>1.870360</td>\n",
       "      <td>0.246475</td>\n",
       "      <td>106.643399</td>\n",
       "    </tr>\n",
       "    <tr>\n",
       "      <th>0</th>\n",
       "      <td>-1.642569</td>\n",
       "      <td>0.042594</td>\n",
       "      <td>3.493979</td>\n",
       "      <td>1.950798</td>\n",
       "      <td>0.173405</td>\n",
       "      <td>95.026273</td>\n",
       "    </tr>\n",
       "    <tr>\n",
       "      <th>0</th>\n",
       "      <td>-2.307011</td>\n",
       "      <td>0.052363</td>\n",
       "      <td>4.215518</td>\n",
       "      <td>2.101602</td>\n",
       "      <td>0.056123</td>\n",
       "      <td>90.630019</td>\n",
       "    </tr>\n",
       "    <tr>\n",
       "      <th>0</th>\n",
       "      <td>-1.533439</td>\n",
       "      <td>2.668964</td>\n",
       "      <td>2.203143</td>\n",
       "      <td>1.305687</td>\n",
       "      <td>0.999664</td>\n",
       "      <td>106.508689</td>\n",
       "    </tr>\n",
       "    <tr>\n",
       "      <th>0</th>\n",
       "      <td>-1.474701</td>\n",
       "      <td>2.616848</td>\n",
       "      <td>2.240604</td>\n",
       "      <td>1.331338</td>\n",
       "      <td>0.999594</td>\n",
       "      <td>106.497146</td>\n",
       "    </tr>\n",
       "    <tr>\n",
       "      <th>0</th>\n",
       "      <td>-1.510558</td>\n",
       "      <td>2.649760</td>\n",
       "      <td>2.217584</td>\n",
       "      <td>1.315924</td>\n",
       "      <td>0.999727</td>\n",
       "      <td>105.740031</td>\n",
       "    </tr>\n",
       "    <tr>\n",
       "      <th>0</th>\n",
       "      <td>-2.163242</td>\n",
       "      <td>0.060353</td>\n",
       "      <td>4.081557</td>\n",
       "      <td>2.082039</td>\n",
       "      <td>0.068983</td>\n",
       "      <td>88.364994</td>\n",
       "    </tr>\n",
       "    <tr>\n",
       "      <th>0</th>\n",
       "      <td>-1.836762</td>\n",
       "      <td>0.074387</td>\n",
       "      <td>3.731425</td>\n",
       "      <td>2.016071</td>\n",
       "      <td>0.119073</td>\n",
       "      <td>101.588742</td>\n",
       "    </tr>\n",
       "    <tr>\n",
       "      <th>0</th>\n",
       "      <td>-1.987505</td>\n",
       "      <td>0.078886</td>\n",
       "      <td>3.899689</td>\n",
       "      <td>2.051262</td>\n",
       "      <td>0.091631</td>\n",
       "      <td>97.726401</td>\n",
       "    </tr>\n",
       "    <tr>\n",
       "      <th>0</th>\n",
       "      <td>-1.511760</td>\n",
       "      <td>2.651628</td>\n",
       "      <td>2.216700</td>\n",
       "      <td>1.314999</td>\n",
       "      <td>0.999832</td>\n",
       "      <td>105.654403</td>\n",
       "    </tr>\n",
       "    <tr>\n",
       "      <th>0</th>\n",
       "      <td>-1.538683</td>\n",
       "      <td>2.665073</td>\n",
       "      <td>2.201053</td>\n",
       "      <td>1.307270</td>\n",
       "      <td>0.998584</td>\n",
       "      <td>107.666286</td>\n",
       "    </tr>\n",
       "  </tbody>\n",
       "</table>\n",
       "</div>"
      ],
      "text/plain": [
       "       mu_1      mu_2   sigma_1   sigma_2       p_1       error\n",
       "0 -1.478994  2.614383  2.238781  1.332568  0.998777  107.370257\n",
       "0 -1.512871  2.652348  2.216030  1.314621  0.999800  105.705450\n",
       "0 -1.504431  2.646154  2.221223  1.317784  0.999953  105.445623\n",
       "0 -1.481980  2.617102  2.236868  1.331378  0.998781  107.224962\n",
       "0 -1.506021  2.643485  2.220806  1.319013  0.999430  106.002775\n",
       "0 -1.524926  2.655279  2.209480  1.312750  0.998833  106.925022\n",
       "0 -1.515457  2.655389  2.214271  1.313082  0.999903  105.661391\n",
       "0 -1.485623  2.624434  2.233948  1.328048  0.999305  106.415899\n",
       "0 -1.474140  2.613892  2.241320  1.332672  0.999279  106.948475\n",
       "0 -1.528081  2.660532  2.207105  1.310067  0.999163  106.720048\n",
       "0 -1.404853  0.023073  3.170078  1.807554  0.301607  104.388647\n",
       "0 -1.746254  0.066338  3.623572  1.989197  0.141142  101.903715\n",
       "0 -1.503579  2.640612  2.222466  1.320417  0.999336  106.097770\n",
       "0 -1.489626  2.632862  2.230685  1.324162  0.999929  105.561692\n",
       "0 -2.082032  0.062165  4.000993  2.068942  0.078080   88.562950\n",
       "0 -1.498653  2.636358  2.225590  1.322487  0.999348  106.105115\n",
       "0 -1.707629  0.068045  3.575168  1.975964  0.152648  105.023264\n",
       "0 -1.668558  0.062862  3.525965  1.961315  0.165201  104.330337\n",
       "0 -2.211715  0.035220  4.130843  2.089148  0.063535   82.216792\n",
       "0 -1.488642  0.046536  3.286147  1.870360  0.246475  106.643399\n",
       "0 -1.642569  0.042594  3.493979  1.950798  0.173405   95.026273\n",
       "0 -2.307011  0.052363  4.215518  2.101602  0.056123   90.630019\n",
       "0 -1.533439  2.668964  2.203143  1.305687  0.999664  106.508689\n",
       "0 -1.474701  2.616848  2.240604  1.331338  0.999594  106.497146\n",
       "0 -1.510558  2.649760  2.217584  1.315924  0.999727  105.740031\n",
       "0 -2.163242  0.060353  4.081557  2.082039  0.068983   88.364994\n",
       "0 -1.836762  0.074387  3.731425  2.016071  0.119073  101.588742\n",
       "0 -1.987505  0.078886  3.899689  2.051262  0.091631   97.726401\n",
       "0 -1.511760  2.651628  2.216700  1.314999  0.999832  105.654403\n",
       "0 -1.538683  2.665073  2.201053  1.307270  0.998584  107.666286"
      ]
     },
     "execution_count": 61,
     "metadata": {},
     "output_type": "execute_result"
    }
   ],
   "source": [
    "df_fit_results"
   ]
  },
  {
   "cell_type": "code",
   "execution_count": 62,
   "metadata": {},
   "outputs": [
    {
     "name": "stdout",
     "output_type": "stream",
     "text": [
      "The best parameters:  {'mu_1': -1.51384, 'mu_2': 2.64065, 'sigma_1': 2.22785, 'sigma_2': 1.32057, 'p_1': 0.99891}\n"
     ]
    }
   ],
   "source": [
    "fit_params = bs.most_likely_parameters(df_fit_results)\n",
    "print('The best parameters: ', fit_params) #제일 잘 나온 parameter 구하기\n",
    "\n",
    "# long bet만 나와서 확률이 큼.. unbalanced된 label --> sklearn balanced로 바꾸기\n",
    "# period를 잘못 잡은 것... staionary data\n",
    "# 적합하지 않은 데이터이다"
   ]
  },
  {
   "cell_type": "code",
   "execution_count": 63,
   "metadata": {},
   "outputs": [],
   "source": [
    "params_list = [fit_params[key] for key in ['mu_1', 'mu_2', 'sigma_1', 'sigma_2', 'p_1']]\n",
    "def pdf_mixture(x_val ,parameters):\n",
    "    mu_1, mu_2, sigma_1, sigma_2, p_1 = parameters  # Parameters reassigned for clarity.\n",
    "    return p_1 * norm.pdf(x_val, mu_1, sigma_1) + (1-p_1) * norm.pdf(x_val, mu_2, sigma_2)"
   ]
  },
  {
   "cell_type": "code",
   "execution_count": 64,
   "metadata": {
    "scrolled": true
   },
   "outputs": [
    {
     "data": {
      "image/png": "[encoded data removed]",
      "text/plain": [
       "<Figure size 720x432 with 1 Axes>"
      ]
     },
     "metadata": {
      "needs_background": "light"
     },
     "output_type": "display_data"
    }
   ],
   "source": [
    "# Fit된 그래프\n",
    "plt.figure(figsize=(10,6))\n",
    "plt.title('Fitted Two-Gaussian Mixture Distribution with c_t')\n",
    "\n",
    "sns.distplot(pdf_mixture(c_t, params_list), hist=False, rug=True);"
   ]
  },
  {
   "cell_type": "markdown",
   "metadata": {},
   "source": [
    "## 4(c)\n",
    "m_t 구하기"
   ]
  },
  {
   "cell_type": "code",
   "execution_count": 65,
   "metadata": {},
   "outputs": [],
   "source": [
    "# F: cdf_mixture와 c_t를 이용해 m_t 반환\n",
    "def bet_size_mixed(c_t, parameters):\n",
    "    # return the bet size based on the description provided in\n",
    "    # question 10.4(c).\n",
    "    # :param c_t: (int) different of the number of concurrent long bets minus short bets\n",
    "    # :param parameters: (list) mixture parameters, [mu1, mu2, sigma1, sigma2, p1]\n",
    "    # :return: (float) bet size\n",
    "    # =========================\n",
    "    if c_t >= 0:\n",
    "        return ( bs.cdf_mixture(c_t, parameters) - bs.cdf_mixture(0, parameters) ) / ( 1 - bs.cdf_mixture(0, parameters) )\n",
    "    else:\n",
    "        ( bs.cdf_mixture(c_t, parameters) - bs.cdf_mixture(0, parameters) ) / bs.cdf_mixture(0, parameters)"
   ]
  },
  {
   "cell_type": "code",
   "execution_count": 66,
   "metadata": {
    "scrolled": true
   },
   "outputs": [
    {
     "name": "stderr",
     "output_type": "stream",
     "text": [
      "C:\\ProgramData\\Anaconda3\\lib\\site-packages\\ipykernel_launcher.py:1: DeprecationWarning: The default dtype for empty Series will be 'object' instead of 'float64' in a future version. Specify a dtype explicitly to silence this warning.\n",
      "  \"\"\"Entry point for launching an IPython kernel.\n"
     ]
    },
    {
     "data": {
      "text/plain": [
       "2015-01-05 17:26:59         NaN\n",
       "2015-01-06 16:19:17         NaN\n",
       "2015-01-06 18:27:02         NaN\n",
       "2015-01-06 19:53:59         NaN\n",
       "2015-01-07 13:06:59    0.476676\n",
       "                         ...   \n",
       "2016-12-09 20:17:20    0.476676\n",
       "2016-12-13 17:16:09    0.476676\n",
       "2016-12-14 20:09:51    0.000000\n",
       "2016-12-15 16:03:52    0.476676\n",
       "2016-12-28 17:41:36    0.000000\n",
       "Length: 772, dtype: float64"
      ]
     },
     "execution_count": 66,
     "metadata": {},
     "output_type": "execute_result"
    }
   ],
   "source": [
    "bet_size_4 = pd.Series() #m_t를 담을 새 series\n",
    "bet_size_4 = c_t.apply(lambda c: bet_size_mixed(c, params_list))\n",
    "bet_size_4"
   ]
  },
  {
   "cell_type": "markdown",
   "metadata": {},
   "source": [
    "### bet_size_reserve 모듈로 m_t 구하기"
   ]
  },
  {
   "cell_type": "code",
   "execution_count": 83,
   "metadata": {
    "scrolled": true
   },
   "outputs": [
    {
     "name": "stderr",
     "output_type": "stream",
     "text": [
      "|#########################| Completed 30 of 30 fitting rounds."
     ]
    },
    {
     "data": {
      "text/plain": [
       "2015-01-05 17:26:59   -0.212570\n",
       "2015-01-06 16:19:17   -0.212570\n",
       "2015-01-06 18:27:02   -0.212570\n",
       "2015-01-06 19:53:59   -0.212570\n",
       "2015-01-07 13:06:59    0.477672\n",
       "                         ...   \n",
       "2016-12-09 20:17:20    0.477672\n",
       "2016-12-13 17:16:09    0.477672\n",
       "2016-12-14 20:09:51    0.000000\n",
       "2016-12-15 16:03:52    0.477672\n",
       "2016-12-28 17:41:36    0.000000\n",
       "Name: bet_size, Length: 772, dtype: float64"
      ]
     },
     "execution_count": 83,
     "metadata": {},
     "output_type": "execute_result"
    }
   ],
   "source": [
    "m_reserve = bs.bet_sizing.bet_size_reserve(events_t1=tripple_barrier_events['t1'], sides=tripple_barrier_events.side, return_parameters=True, fit_runs=30)\n",
    "m_reserve[0].bet_size"
   ]
  },
  {
   "cell_type": "markdown",
   "metadata": {},
   "source": [
    "## 4(d)\n",
    "3에서 구한 bet size와 4에서 구한 bet size가 어떻게 다른가?"
   ]
  },
  {
   "cell_type": "code",
   "execution_count": 75,
   "metadata": {
    "scrolled": true
   },
   "outputs": [
    {
     "data": {
      "text/plain": [
       "2015-01-05 17:26:59    False\n",
       "2015-01-06 16:19:17    False\n",
       "2015-01-06 18:27:02    False\n",
       "2015-01-06 19:53:59    False\n",
       "2015-01-07 13:06:59    False\n",
       "                       ...  \n",
       "2016-12-09 20:17:20    False\n",
       "2016-12-13 17:16:09    False\n",
       "2016-12-14 20:09:51    False\n",
       "2016-12-15 16:03:52    False\n",
       "2016-12-28 17:41:36    False\n",
       "Length: 772, dtype: bool"
      ]
     },
     "execution_count": 75,
     "metadata": {},
     "output_type": "execute_result"
    }
   ],
   "source": [
    "bet_size_3 == bet_size_4"
   ]
  },
  {
   "cell_type": "code",
   "execution_count": 76,
   "metadata": {},
   "outputs": [
    {
     "data": {
      "text/plain": [
       "2015-01-05 17:26:59   -0.071429\n",
       "2015-01-06 16:19:17   -0.071429\n",
       "2015-01-06 18:27:02   -0.071429\n",
       "2015-01-06 19:53:59   -0.071429\n",
       "2015-01-07 13:06:59    0.062500\n",
       "                         ...   \n",
       "2016-12-09 20:17:20    0.062500\n",
       "2016-12-13 17:16:09    0.062500\n",
       "2016-12-14 20:09:51   -0.008929\n",
       "2016-12-15 16:03:52    0.053571\n",
       "2016-12-28 17:41:36   -0.017857\n",
       "Length: 772, dtype: float64"
      ]
     },
     "execution_count": 76,
     "metadata": {},
     "output_type": "execute_result"
    }
   ],
   "source": [
    "bet_size_3"
   ]
  },
  {
   "cell_type": "code",
   "execution_count": 77,
   "metadata": {},
   "outputs": [
    {
     "data": {
      "text/plain": [
       "2015-01-05 17:26:59         NaN\n",
       "2015-01-06 16:19:17         NaN\n",
       "2015-01-06 18:27:02         NaN\n",
       "2015-01-06 19:53:59         NaN\n",
       "2015-01-07 13:06:59    0.476676\n",
       "                         ...   \n",
       "2016-12-09 20:17:20    0.476676\n",
       "2016-12-13 17:16:09    0.476676\n",
       "2016-12-14 20:09:51    0.000000\n",
       "2016-12-15 16:03:52    0.476676\n",
       "2016-12-28 17:41:36    0.000000\n",
       "Length: 772, dtype: float64"
      ]
     },
     "execution_count": 77,
     "metadata": {},
     "output_type": "execute_result"
    }
   ],
   "source": [
    "bet_size_4"
   ]
  },
  {
   "cell_type": "markdown",
   "metadata": {},
   "source": [
    "- 4번의 bet size는 가우시안 분포에 fit하여 구해졌기 때문에 양수, 값이 클 수 밖에 없음. (signal의 강/약)\n",
    "- 3번의 bet size는 (long bets 개수/max  - short bets 개수/max이기 때문에 음수가 나올 수 있으며, 값이 작음. "
   ]
  },
  {
   "cell_type": "code",
   "execution_count": null,
   "metadata": {},
   "outputs": [],
   "source": []
  }
 ],
 "metadata": {
  "kernelspec": {
   "display_name": "Python 3",
   "language": "python",
   "name": "python3"
  },
  "language_info": {
   "codemirror_mode": {
    "name": "ipython",
    "version": 3
   },
   "file_extension": ".py",
   "mimetype": "text/x-python",
   "name": "python",
   "nbconvert_exporter": "python",
   "pygments_lexer": "ipython3",
   "version": "3.7.1"
  }
 },
 "nbformat": 4,
 "nbformat_minor": 2
}
